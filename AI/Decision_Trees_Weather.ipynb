{
  "cells": [
    {
      "cell_type": "markdown",
      "metadata": {
        "id": "view-in-github",
        "colab_type": "text"
      },
      "source": [
        "<a href=\"https://colab.research.google.com/github/DataSayant1st/MachineLearning_and_AI/blob/main/Decision_Trees_Weather.ipynb\" target=\"_parent\"><img src=\"https://colab.research.google.com/assets/colab-badge.svg\" alt=\"Open In Colab\"/></a>"
      ]
    },
    {
      "cell_type": "markdown",
      "id": "e10af886",
      "metadata": {
        "id": "e10af886"
      },
      "source": [
        "# Weather Forecast with Decision Tree Regression\n"
      ]
    },
    {
      "cell_type": "code",
      "execution_count": null,
      "id": "4d7b5971",
      "metadata": {
        "id": "4d7b5971"
      },
      "outputs": [],
      "source": [
        "# Libraries\n",
        "\n",
        "import pandas as pd\n",
        "import numpy as np\n"
      ]
    },
    {
      "cell_type": "code",
      "execution_count": null,
      "id": "dad44ac2",
      "metadata": {
        "id": "dad44ac2"
      },
      "outputs": [],
      "source": [
        "df = pd.read_csv('weatherHistory.csv')\n",
        "df.head()"
      ]
    },
    {
      "cell_type": "code",
      "execution_count": null,
      "id": "81b9cd21",
      "metadata": {
        "id": "81b9cd21"
      },
      "outputs": [],
      "source": [
        "# droping unnecessary columns\n",
        "df = df.drop(columns =['Formatted Date','Daily Summary','Summary'])"
      ]
    },
    {
      "cell_type": "code",
      "execution_count": null,
      "id": "f794cc39",
      "metadata": {
        "id": "f794cc39"
      },
      "outputs": [],
      "source": [
        "df"
      ]
    },
    {
      "cell_type": "code",
      "execution_count": null,
      "id": "dc102957",
      "metadata": {
        "id": "dc102957"
      },
      "outputs": [],
      "source": [
        "df.dtypes"
      ]
    },
    {
      "cell_type": "code",
      "execution_count": null,
      "id": "64bb63a1",
      "metadata": {
        "id": "64bb63a1"
      },
      "outputs": [],
      "source": [
        "# One-hot encoding for precipitation type\n",
        "\n",
        "one_hot_encoding = pd.get_dummies(df['Precip Type'])\n",
        "one_hot_encoding.describe()"
      ]
    },
    {
      "cell_type": "code",
      "execution_count": null,
      "id": "79a8d0b7",
      "metadata": {
        "id": "79a8d0b7"
      },
      "outputs": [],
      "source": [
        "# concatenation\n",
        "df = pd.concat([df, one_hot_encoding], axis = 1)\n",
        "df = df.drop(columns = ['Precip Type', 'Apparent Temperature (C)','Cloud Cover',])"
      ]
    },
    {
      "cell_type": "code",
      "execution_count": null,
      "id": "72f082a0",
      "metadata": {
        "id": "72f082a0"
      },
      "outputs": [],
      "source": [
        "df.head()"
      ]
    },
    {
      "cell_type": "code",
      "execution_count": null,
      "id": "b1cda19b",
      "metadata": {
        "id": "b1cda19b"
      },
      "outputs": [],
      "source": [
        "df.dtypes"
      ]
    },
    {
      "cell_type": "code",
      "execution_count": null,
      "id": "4531b7cb",
      "metadata": {
        "id": "4531b7cb"
      },
      "outputs": [],
      "source": [
        "# Creating variables\n",
        "\n",
        "X = df.drop(columns = ['Temperature (C)'])\n",
        "y = pd.DataFrame(df['Temperature (C)'])"
      ]
    },
    {
      "cell_type": "code",
      "execution_count": null,
      "id": "b1413e6d",
      "metadata": {
        "id": "b1413e6d"
      },
      "outputs": [],
      "source": [
        "from sklearn.model_selection import train_test_split"
      ]
    },
    {
      "cell_type": "code",
      "execution_count": null,
      "id": "f8f70e04",
      "metadata": {
        "id": "f8f70e04"
      },
      "outputs": [],
      "source": [
        "X_train, X_test, y_train, y_test = train_test_split(X,y, test_size = 0.33, random_state = 87)"
      ]
    },
    {
      "cell_type": "code",
      "execution_count": null,
      "id": "5a0f7a2d",
      "metadata": {
        "id": "5a0f7a2d"
      },
      "outputs": [],
      "source": []
    },
    {
      "cell_type": "markdown",
      "id": "2f57f6c9",
      "metadata": {
        "id": "2f57f6c9"
      },
      "source": [
        "# Trying Linear regression with Elastic Net Regularisation"
      ]
    },
    {
      "cell_type": "code",
      "execution_count": null,
      "id": "3c86bd72",
      "metadata": {
        "id": "3c86bd72"
      },
      "outputs": [],
      "source": [
        "# Apparently it kinda tries to fit into a linear model; fitting the points to the line. It's kinda like linear regression with regularisation"
      ]
    },
    {
      "cell_type": "code",
      "execution_count": null,
      "id": "49d121c4",
      "metadata": {
        "id": "49d121c4"
      },
      "outputs": [],
      "source": [
        "# In summary, regularisation helps to prevent overfitting by penalising complex models WHILE normalisation is a pre-processing scaling step to make sure that the needed data points get the opportunity to contribute\n"
      ]
    },
    {
      "cell_type": "code",
      "execution_count": null,
      "id": "84f15c28",
      "metadata": {
        "id": "84f15c28"
      },
      "outputs": [],
      "source": [
        "from sklearn.linear_model import ElasticNet\n",
        "from sklearn.metrics import r2_score, explained_variance_score"
      ]
    },
    {
      "cell_type": "code",
      "execution_count": null,
      "id": "af3c7c8e",
      "metadata": {
        "id": "af3c7c8e"
      },
      "outputs": [],
      "source": [
        "elastic_net = ElasticNet(random_state = 63, max_iter = 10000)\n",
        "elastic_net.fit(X_train, y_train)\n",
        "# random state is kinda like throwing dice, to make sure that our split is as random as possible"
      ]
    },
    {
      "cell_type": "code",
      "execution_count": null,
      "id": "2e9cb803",
      "metadata": {
        "id": "2e9cb803"
      },
      "outputs": [],
      "source": [
        "# making predictions\n",
        "y_hat = elastic_net.predict(X_test)"
      ]
    },
    {
      "cell_type": "code",
      "execution_count": null,
      "id": "f1f71a15",
      "metadata": {
        "id": "f1f71a15"
      },
      "outputs": [],
      "source": [
        "R2 = r2_score(y_true = y_test, y_pred = y_hat)\n",
        "exp_var = explained_variance_score(y_true = y_test, y_pred =y_hat)\n",
        "\n",
        "print(R2, exp_var)"
      ]
    },
    {
      "cell_type": "code",
      "execution_count": null,
      "id": "b782137a",
      "metadata": {
        "id": "b782137a"
      },
      "outputs": [],
      "source": []
    },
    {
      "cell_type": "code",
      "execution_count": null,
      "id": "5b0e3627",
      "metadata": {
        "id": "5b0e3627"
      },
      "outputs": [],
      "source": [
        "X_train.describe()"
      ]
    },
    {
      "cell_type": "code",
      "execution_count": null,
      "id": "75ae4d34",
      "metadata": {
        "id": "75ae4d34"
      },
      "outputs": [],
      "source": []
    },
    {
      "cell_type": "markdown",
      "id": "17d67864",
      "metadata": {
        "id": "17d67864"
      },
      "source": [
        "# Making a decision Tree Regressor"
      ]
    },
    {
      "cell_type": "code",
      "execution_count": null,
      "id": "fa9c8bcc",
      "metadata": {
        "id": "fa9c8bcc"
      },
      "outputs": [],
      "source": [
        "from sklearn.tree import DecisionTreeRegressor\n",
        "from sklearn.metrics import r2_score, explained_variance_score\n",
        "from sklearn.tree import plot_tree\n",
        "import matplotlib.pyplot as plt"
      ]
    },
    {
      "cell_type": "code",
      "execution_count": null,
      "id": "001db6f8",
      "metadata": {
        "id": "001db6f8"
      },
      "outputs": [],
      "source": [
        "decision_tree = DecisionTreeRegressor(max_depth = 10, criterion = \"squared_error\", random_state = 11)\n",
        "decision_tree.fit(X_train, y_train)\n"
      ]
    },
    {
      "cell_type": "code",
      "execution_count": null,
      "id": "1e1ae27c",
      "metadata": {
        "id": "1e1ae27c"
      },
      "outputs": [],
      "source": [
        "y_hat = decision_tree.predict(X_test)\n",
        "\n",
        "R2 = r2_score(y_true = y_test, y_pred = y_hat)\n",
        "exp_var = explained_variance_score(y_true = y_hat, y_pred = y_hat)"
      ]
    },
    {
      "cell_type": "code",
      "execution_count": null,
      "id": "7e3e381f",
      "metadata": {
        "id": "7e3e381f"
      },
      "outputs": [],
      "source": [
        "print(R2, exp_var)\n"
      ]
    },
    {
      "cell_type": "code",
      "execution_count": null,
      "id": "326cec14",
      "metadata": {
        "id": "326cec14"
      },
      "outputs": [],
      "source": [
        "# we experimented with simple linear regression model WITHOUT regularisation and it performed better"
      ]
    },
    {
      "cell_type": "code",
      "execution_count": null,
      "id": "9698efe0",
      "metadata": {
        "id": "9698efe0"
      },
      "outputs": [],
      "source": [
        "plt.figure(figsize = (10,10))\n",
        "p = plot_tree(decision_tree,\n",
        "             feature_names= X_test.columns.tolist(),\n",
        "             filled = True,\n",
        "             proportion = True,\n",
        "             rounded = True)"
      ]
    },
    {
      "cell_type": "code",
      "execution_count": null,
      "id": "e29cdb3e",
      "metadata": {
        "id": "e29cdb3e"
      },
      "outputs": [],
      "source": [
        "len(X_train.keys())\n",
        "\n",
        "# it will give u the number of features / columns in our training dataset"
      ]
    },
    {
      "cell_type": "code",
      "execution_count": null,
      "id": "1375783a",
      "metadata": {
        "id": "1375783a"
      },
      "outputs": [],
      "source": [
        "plt.figure()\n",
        "plt.plot(y_test,y_hat, '*r')\n",
        "plt.xlabel('y_true')\n",
        "plt.ylabel('y_predicted')\n",
        "\n",
        "x = np.linspace(-20,40)\n",
        "plt.plot(x,x,'k')\n"
      ]
    },
    {
      "cell_type": "code",
      "execution_count": null,
      "id": "ac3353b3",
      "metadata": {
        "id": "ac3353b3"
      },
      "outputs": [],
      "source": []
    },
    {
      "cell_type": "markdown",
      "id": "7cbbe05e",
      "metadata": {
        "id": "7cbbe05e"
      },
      "source": [
        "# Partial dependency plot"
      ]
    },
    {
      "cell_type": "code",
      "execution_count": null,
      "id": "80a9169d",
      "metadata": {
        "id": "80a9169d"
      },
      "outputs": [],
      "source": [
        "from sklearn.inspection import PartialDependenceDisplay"
      ]
    },
    {
      "cell_type": "code",
      "execution_count": null,
      "id": "2dbaddca",
      "metadata": {
        "id": "2dbaddca"
      },
      "outputs": [],
      "source": [
        "features = [0,1,2,3,4,5,6]\n",
        "# seven items because we have seven features in our dataset\n",
        "\n",
        "fig, ax = plt.subplots(figsize = (5,5))\n",
        "PartialDependenceDisplay.from_estimator(decision_tree, X_test, features, ax = ax)\n",
        "\n",
        "# seeing how different features influence the output of our model\n",
        "\n",
        "# from the below graphs, humidity had the biggest impact to our model"
      ]
    },
    {
      "cell_type": "code",
      "execution_count": null,
      "id": "0b4b9b89",
      "metadata": {
        "id": "0b4b9b89"
      },
      "outputs": [],
      "source": [
        "# we can do the same above step for Linear regression. Linear Reghression model showed that all features contributed a lot not just humidity"
      ]
    },
    {
      "cell_type": "code",
      "execution_count": null,
      "id": "203d7da1",
      "metadata": {
        "id": "203d7da1"
      },
      "outputs": [],
      "source": [
        "features = [(0, 4)]\n",
        "\n",
        "PartialDependenceDisplay.from_estimator(decision_tree, X_test, features)"
      ]
    },
    {
      "cell_type": "code",
      "execution_count": null,
      "id": "51546ce7",
      "metadata": {
        "id": "51546ce7"
      },
      "outputs": [],
      "source": []
    },
    {
      "cell_type": "markdown",
      "id": "22043364",
      "metadata": {
        "id": "22043364"
      },
      "source": [
        "# Decision Tree Classifier"
      ]
    },
    {
      "cell_type": "code",
      "execution_count": null,
      "id": "6493af33",
      "metadata": {
        "id": "6493af33"
      },
      "outputs": [],
      "source": [
        "import pandas as pd\n",
        "from sklearn.model_selection import train_test_split\n"
      ]
    },
    {
      "cell_type": "code",
      "execution_count": null,
      "id": "860e0e7d",
      "metadata": {
        "id": "860e0e7d"
      },
      "outputs": [],
      "source": [
        "df = pd.read_csv('weatherHistory.csv')\n",
        "df = df.drop(columns =['Formatted Date','Daily Summary','Summary', 'Apparent Temperature (C)', 'Cloud Cover'])\n",
        "df.head"
      ]
    },
    {
      "cell_type": "code",
      "execution_count": null,
      "id": "95b2d5a2",
      "metadata": {
        "id": "95b2d5a2"
      },
      "outputs": [],
      "source": [
        "df.dtypes"
      ]
    },
    {
      "cell_type": "code",
      "execution_count": null,
      "id": "6c6a9e75",
      "metadata": {
        "id": "6c6a9e75"
      },
      "outputs": [],
      "source": [
        "df[\"Precip Type\"].isnull().sum()"
      ]
    },
    {
      "cell_type": "code",
      "execution_count": null,
      "id": "fe298bd6",
      "metadata": {
        "id": "fe298bd6"
      },
      "outputs": [],
      "source": [
        "df[\"Precip Type\"].fillna(\"none\", inplace=True)"
      ]
    },
    {
      "cell_type": "code",
      "execution_count": null,
      "id": "780a96ac",
      "metadata": {
        "id": "780a96ac",
        "outputId": "ef15ea2c-2cfa-4604-e9f2-f9fdb1f95806"
      },
      "outputs": [
        {
          "data": {
            "text/html": [
              "<div>\n",
              "<style scoped>\n",
              "    .dataframe tbody tr th:only-of-type {\n",
              "        vertical-align: middle;\n",
              "    }\n",
              "\n",
              "    .dataframe tbody tr th {\n",
              "        vertical-align: top;\n",
              "    }\n",
              "\n",
              "    .dataframe thead th {\n",
              "        text-align: right;\n",
              "    }\n",
              "</style>\n",
              "<table border=\"1\" class=\"dataframe\">\n",
              "  <thead>\n",
              "    <tr style=\"text-align: right;\">\n",
              "      <th></th>\n",
              "      <th>none</th>\n",
              "      <th>rain</th>\n",
              "      <th>snow</th>\n",
              "    </tr>\n",
              "  </thead>\n",
              "  <tbody>\n",
              "    <tr>\n",
              "      <th>0</th>\n",
              "      <td>False</td>\n",
              "      <td>True</td>\n",
              "      <td>False</td>\n",
              "    </tr>\n",
              "    <tr>\n",
              "      <th>1</th>\n",
              "      <td>False</td>\n",
              "      <td>True</td>\n",
              "      <td>False</td>\n",
              "    </tr>\n",
              "    <tr>\n",
              "      <th>2</th>\n",
              "      <td>False</td>\n",
              "      <td>True</td>\n",
              "      <td>False</td>\n",
              "    </tr>\n",
              "    <tr>\n",
              "      <th>3</th>\n",
              "      <td>False</td>\n",
              "      <td>True</td>\n",
              "      <td>False</td>\n",
              "    </tr>\n",
              "    <tr>\n",
              "      <th>4</th>\n",
              "      <td>False</td>\n",
              "      <td>True</td>\n",
              "      <td>False</td>\n",
              "    </tr>\n",
              "    <tr>\n",
              "      <th>...</th>\n",
              "      <td>...</td>\n",
              "      <td>...</td>\n",
              "      <td>...</td>\n",
              "    </tr>\n",
              "    <tr>\n",
              "      <th>96448</th>\n",
              "      <td>False</td>\n",
              "      <td>True</td>\n",
              "      <td>False</td>\n",
              "    </tr>\n",
              "    <tr>\n",
              "      <th>96449</th>\n",
              "      <td>False</td>\n",
              "      <td>True</td>\n",
              "      <td>False</td>\n",
              "    </tr>\n",
              "    <tr>\n",
              "      <th>96450</th>\n",
              "      <td>False</td>\n",
              "      <td>True</td>\n",
              "      <td>False</td>\n",
              "    </tr>\n",
              "    <tr>\n",
              "      <th>96451</th>\n",
              "      <td>False</td>\n",
              "      <td>True</td>\n",
              "      <td>False</td>\n",
              "    </tr>\n",
              "    <tr>\n",
              "      <th>96452</th>\n",
              "      <td>False</td>\n",
              "      <td>True</td>\n",
              "      <td>False</td>\n",
              "    </tr>\n",
              "  </tbody>\n",
              "</table>\n",
              "<p>96453 rows × 3 columns</p>\n",
              "</div>"
            ],
            "text/plain": [
              "        none  rain   snow\n",
              "0      False  True  False\n",
              "1      False  True  False\n",
              "2      False  True  False\n",
              "3      False  True  False\n",
              "4      False  True  False\n",
              "...      ...   ...    ...\n",
              "96448  False  True  False\n",
              "96449  False  True  False\n",
              "96450  False  True  False\n",
              "96451  False  True  False\n",
              "96452  False  True  False\n",
              "\n",
              "[96453 rows x 3 columns]"
            ]
          },
          "execution_count": 37,
          "metadata": {},
          "output_type": "execute_result"
        }
      ],
      "source": [
        "pd.get_dummies(df[\"Precip Type\"])"
      ]
    },
    {
      "cell_type": "code",
      "execution_count": null,
      "id": "47bcf260",
      "metadata": {
        "id": "47bcf260",
        "outputId": "1186196a-a1f2-41a3-e85c-acf83c2b8492"
      },
      "outputs": [
        {
          "data": {
            "text/plain": [
              "Precip Type                object\n",
              "Temperature (C)           float64\n",
              "Humidity                  float64\n",
              "Wind Speed (km/h)         float64\n",
              "Wind Bearing (degrees)    float64\n",
              "Visibility (km)           float64\n",
              "Pressure (millibars)      float64\n",
              "dtype: object"
            ]
          },
          "execution_count": 38,
          "metadata": {},
          "output_type": "execute_result"
        }
      ],
      "source": [
        "df.dtypes"
      ]
    },
    {
      "cell_type": "code",
      "execution_count": null,
      "id": "0e94f6a5",
      "metadata": {
        "id": "0e94f6a5",
        "outputId": "1b3091e8-90fc-4b0e-bfac-a684e16b535c"
      },
      "outputs": [
        {
          "name": "stdout",
          "output_type": "stream",
          "text": [
            "(96453, 6)\n",
            "(96453,)\n",
            "Index(['none', 'rain', 'snow'], dtype='object')\n"
          ]
        }
      ],
      "source": [
        "X = df.drop(columns = [\"Precip Type\"])\n",
        "y = df[\"Precip Type\"].astype('category').cat.codes\n",
        "\n",
        "class_names = df[\"Precip Type\"].astype('category').cat.categories\n",
        "\n",
        "print(X.shape)\n",
        "print(y.shape)\n",
        "print(class_names)"
      ]
    },
    {
      "cell_type": "code",
      "execution_count": null,
      "id": "55bdcc6c",
      "metadata": {
        "id": "55bdcc6c",
        "outputId": "4c313e88-b598-4312-f002-ddf74e97576c"
      },
      "outputs": [
        {
          "data": {
            "text/plain": [
              "<bound method NDFrame.head of        Temperature (C)  Humidity  Wind Speed (km/h)  Wind Bearing (degrees)  \\\n",
              "0             9.472222      0.89            14.1197                   251.0   \n",
              "1             9.355556      0.86            14.2646                   259.0   \n",
              "2             9.377778      0.89             3.9284                   204.0   \n",
              "3             8.288889      0.83            14.1036                   269.0   \n",
              "4             8.755556      0.83            11.0446                   259.0   \n",
              "...                ...       ...                ...                     ...   \n",
              "96448        26.016667      0.43            10.9963                    31.0   \n",
              "96449        24.583333      0.48            10.0947                    20.0   \n",
              "96450        22.038889      0.56             8.9838                    30.0   \n",
              "96451        21.522222      0.60            10.5294                    20.0   \n",
              "96452        20.438889      0.61             5.8765                    39.0   \n",
              "\n",
              "       Visibility (km)  Pressure (millibars)  \n",
              "0              15.8263               1015.13  \n",
              "1              15.8263               1015.63  \n",
              "2              14.9569               1015.94  \n",
              "3              15.8263               1016.41  \n",
              "4              15.8263               1016.51  \n",
              "...                ...                   ...  \n",
              "96448          16.1000               1014.36  \n",
              "96449          15.5526               1015.16  \n",
              "96450          16.1000               1015.66  \n",
              "96451          16.1000               1015.95  \n",
              "96452          15.5204               1016.16  \n",
              "\n",
              "[96453 rows x 6 columns]>"
            ]
          },
          "execution_count": 40,
          "metadata": {},
          "output_type": "execute_result"
        }
      ],
      "source": [
        "X.head"
      ]
    },
    {
      "cell_type": "code",
      "execution_count": null,
      "id": "e548cff4",
      "metadata": {
        "id": "e548cff4",
        "outputId": "d86bc685-59cd-4a6a-e054-933392095e94"
      },
      "outputs": [
        {
          "data": {
            "text/plain": [
              "count    96453.000000\n",
              "mean         1.105699\n",
              "std          0.324420\n",
              "min          0.000000\n",
              "25%          1.000000\n",
              "50%          1.000000\n",
              "75%          1.000000\n",
              "max          2.000000\n",
              "dtype: float64"
            ]
          },
          "execution_count": 41,
          "metadata": {},
          "output_type": "execute_result"
        }
      ],
      "source": [
        "y.describe()"
      ]
    },
    {
      "cell_type": "code",
      "execution_count": null,
      "id": "78b33ad6",
      "metadata": {
        "id": "78b33ad6"
      },
      "outputs": [],
      "source": [
        "X_train, X_test, y_train, y_test = train_test_split(X,y, test_size = 0.33, random_state = 82)"
      ]
    },
    {
      "cell_type": "code",
      "execution_count": null,
      "id": "55373f61",
      "metadata": {
        "id": "55373f61"
      },
      "outputs": [],
      "source": []
    },
    {
      "cell_type": "markdown",
      "id": "a4babe0e",
      "metadata": {
        "id": "a4babe0e"
      },
      "source": [
        "# Model Training"
      ]
    },
    {
      "cell_type": "code",
      "execution_count": null,
      "id": "9ad34875",
      "metadata": {
        "id": "9ad34875"
      },
      "outputs": [],
      "source": [
        "from sklearn.tree import DecisionTreeClassifier"
      ]
    },
    {
      "cell_type": "code",
      "execution_count": null,
      "id": "b6019a03",
      "metadata": {
        "id": "b6019a03",
        "outputId": "08c4beb2-b225-482f-bfe1-e41bfdaecad6"
      },
      "outputs": [
        {
          "data": {
            "text/html": [
              "<style>#sk-container-id-4 {color: black;}#sk-container-id-4 pre{padding: 0;}#sk-container-id-4 div.sk-toggleable {background-color: white;}#sk-container-id-4 label.sk-toggleable__label {cursor: pointer;display: block;width: 100%;margin-bottom: 0;padding: 0.3em;box-sizing: border-box;text-align: center;}#sk-container-id-4 label.sk-toggleable__label-arrow:before {content: \"▸\";float: left;margin-right: 0.25em;color: #696969;}#sk-container-id-4 label.sk-toggleable__label-arrow:hover:before {color: black;}#sk-container-id-4 div.sk-estimator:hover label.sk-toggleable__label-arrow:before {color: black;}#sk-container-id-4 div.sk-toggleable__content {max-height: 0;max-width: 0;overflow: hidden;text-align: left;background-color: #f0f8ff;}#sk-container-id-4 div.sk-toggleable__content pre {margin: 0.2em;color: black;border-radius: 0.25em;background-color: #f0f8ff;}#sk-container-id-4 input.sk-toggleable__control:checked~div.sk-toggleable__content {max-height: 200px;max-width: 100%;overflow: auto;}#sk-container-id-4 input.sk-toggleable__control:checked~label.sk-toggleable__label-arrow:before {content: \"▾\";}#sk-container-id-4 div.sk-estimator input.sk-toggleable__control:checked~label.sk-toggleable__label {background-color: #d4ebff;}#sk-container-id-4 div.sk-label input.sk-toggleable__control:checked~label.sk-toggleable__label {background-color: #d4ebff;}#sk-container-id-4 input.sk-hidden--visually {border: 0;clip: rect(1px 1px 1px 1px);clip: rect(1px, 1px, 1px, 1px);height: 1px;margin: -1px;overflow: hidden;padding: 0;position: absolute;width: 1px;}#sk-container-id-4 div.sk-estimator {font-family: monospace;background-color: #f0f8ff;border: 1px dotted black;border-radius: 0.25em;box-sizing: border-box;margin-bottom: 0.5em;}#sk-container-id-4 div.sk-estimator:hover {background-color: #d4ebff;}#sk-container-id-4 div.sk-parallel-item::after {content: \"\";width: 100%;border-bottom: 1px solid gray;flex-grow: 1;}#sk-container-id-4 div.sk-label:hover label.sk-toggleable__label {background-color: #d4ebff;}#sk-container-id-4 div.sk-serial::before {content: \"\";position: absolute;border-left: 1px solid gray;box-sizing: border-box;top: 0;bottom: 0;left: 50%;z-index: 0;}#sk-container-id-4 div.sk-serial {display: flex;flex-direction: column;align-items: center;background-color: white;padding-right: 0.2em;padding-left: 0.2em;position: relative;}#sk-container-id-4 div.sk-item {position: relative;z-index: 1;}#sk-container-id-4 div.sk-parallel {display: flex;align-items: stretch;justify-content: center;background-color: white;position: relative;}#sk-container-id-4 div.sk-item::before, #sk-container-id-4 div.sk-parallel-item::before {content: \"\";position: absolute;border-left: 1px solid gray;box-sizing: border-box;top: 0;bottom: 0;left: 50%;z-index: -1;}#sk-container-id-4 div.sk-parallel-item {display: flex;flex-direction: column;z-index: 1;position: relative;background-color: white;}#sk-container-id-4 div.sk-parallel-item:first-child::after {align-self: flex-end;width: 50%;}#sk-container-id-4 div.sk-parallel-item:last-child::after {align-self: flex-start;width: 50%;}#sk-container-id-4 div.sk-parallel-item:only-child::after {width: 0;}#sk-container-id-4 div.sk-dashed-wrapped {border: 1px dashed gray;margin: 0 0.4em 0.5em 0.4em;box-sizing: border-box;padding-bottom: 0.4em;background-color: white;}#sk-container-id-4 div.sk-label label {font-family: monospace;font-weight: bold;display: inline-block;line-height: 1.2em;}#sk-container-id-4 div.sk-label-container {text-align: center;}#sk-container-id-4 div.sk-container {/* jupyter's `normalize.less` sets `[hidden] { display: none; }` but bootstrap.min.css set `[hidden] { display: none !important; }` so we also need the `!important` here to be able to override the default hidden behavior on the sphinx rendered scikit-learn.org. See: https://github.com/scikit-learn/scikit-learn/issues/21755 */display: inline-block !important;position: relative;}#sk-container-id-4 div.sk-text-repr-fallback {display: none;}</style><div id=\"sk-container-id-4\" class=\"sk-top-container\"><div class=\"sk-text-repr-fallback\"><pre>DecisionTreeClassifier(max_depth=9)</pre><b>In a Jupyter environment, please rerun this cell to show the HTML representation or trust the notebook. <br />On GitHub, the HTML representation is unable to render, please try loading this page with nbviewer.org.</b></div><div class=\"sk-container\" hidden><div class=\"sk-item\"><div class=\"sk-estimator sk-toggleable\"><input class=\"sk-toggleable__control sk-hidden--visually\" id=\"sk-estimator-id-4\" type=\"checkbox\" checked><label for=\"sk-estimator-id-4\" class=\"sk-toggleable__label sk-toggleable__label-arrow\">DecisionTreeClassifier</label><div class=\"sk-toggleable__content\"><pre>DecisionTreeClassifier(max_depth=9)</pre></div></div></div></div></div>"
            ],
            "text/plain": [
              "DecisionTreeClassifier(max_depth=9)"
            ]
          },
          "execution_count": 48,
          "metadata": {},
          "output_type": "execute_result"
        }
      ],
      "source": [
        "tree_classifier = DecisionTreeClassifier(max_depth = 9, criterion = 'gini')\n",
        "tree_classifier.fit(X_train,y_train)\n",
        "# max_depth parameter controls the maximum depth of the tree; controls the number of nodes"
      ]
    },
    {
      "cell_type": "code",
      "execution_count": null,
      "id": "d053f4f8",
      "metadata": {
        "id": "d053f4f8"
      },
      "outputs": [],
      "source": []
    },
    {
      "cell_type": "markdown",
      "id": "0612cb76",
      "metadata": {
        "id": "0612cb76"
      },
      "source": [
        "# Model evaluation"
      ]
    },
    {
      "cell_type": "code",
      "execution_count": null,
      "id": "e57cc59b",
      "metadata": {
        "id": "e57cc59b"
      },
      "outputs": [],
      "source": [
        "from sklearn.metrics import accuracy_score, recall_score, f1_score\n",
        "from sklearn.tree import plot_tree\n",
        "import matplotlib.pyplot as plt"
      ]
    },
    {
      "cell_type": "code",
      "execution_count": null,
      "id": "71d4864e",
      "metadata": {
        "scrolled": true,
        "id": "71d4864e",
        "outputId": "2e7caa44-2b34-4bf4-d8f0-d63209a8d38b"
      },
      "outputs": [
        {
          "ename": "ValueError",
          "evalue": "Classification metrics can't handle a mix of multiclass and continuous targets",
          "output_type": "error",
          "traceback": [
            "\u001b[1;31m---------------------------------------------------------------------------\u001b[0m",
            "\u001b[1;31mValueError\u001b[0m                                Traceback (most recent call last)",
            "Cell \u001b[1;32mIn[50], line 1\u001b[0m\n\u001b[1;32m----> 1\u001b[0m acc \u001b[38;5;241m=\u001b[39m accuracy_score(y_true \u001b[38;5;241m=\u001b[39m y_test, y_pred \u001b[38;5;241m=\u001b[39m y_hat)\n\u001b[0;32m      2\u001b[0m rec \u001b[38;5;241m=\u001b[39m recall_score(y_true \u001b[38;5;241m=\u001b[39m y_test, y_pred \u001b[38;5;241m=\u001b[39m y_hat, average \u001b[38;5;241m=\u001b[39m \u001b[38;5;28;01mNone\u001b[39;00m)\n\u001b[0;32m      3\u001b[0m f1 \u001b[38;5;241m=\u001b[39m f1_score(y_true\u001b[38;5;241m=\u001b[39my_test, y_pred \u001b[38;5;241m=\u001b[39m y_hat, average \u001b[38;5;241m=\u001b[39m \u001b[38;5;28;01mNone\u001b[39;00m)\n",
            "File \u001b[1;32m~\\anaconda3\\Lib\\site-packages\\sklearn\\utils\\_param_validation.py:211\u001b[0m, in \u001b[0;36mvalidate_params.<locals>.decorator.<locals>.wrapper\u001b[1;34m(*args, **kwargs)\u001b[0m\n\u001b[0;32m    205\u001b[0m \u001b[38;5;28;01mtry\u001b[39;00m:\n\u001b[0;32m    206\u001b[0m     \u001b[38;5;28;01mwith\u001b[39;00m config_context(\n\u001b[0;32m    207\u001b[0m         skip_parameter_validation\u001b[38;5;241m=\u001b[39m(\n\u001b[0;32m    208\u001b[0m             prefer_skip_nested_validation \u001b[38;5;129;01mor\u001b[39;00m global_skip_validation\n\u001b[0;32m    209\u001b[0m         )\n\u001b[0;32m    210\u001b[0m     ):\n\u001b[1;32m--> 211\u001b[0m         \u001b[38;5;28;01mreturn\u001b[39;00m func(\u001b[38;5;241m*\u001b[39margs, \u001b[38;5;241m*\u001b[39m\u001b[38;5;241m*\u001b[39mkwargs)\n\u001b[0;32m    212\u001b[0m \u001b[38;5;28;01mexcept\u001b[39;00m InvalidParameterError \u001b[38;5;28;01mas\u001b[39;00m e:\n\u001b[0;32m    213\u001b[0m     \u001b[38;5;66;03m# When the function is just a wrapper around an estimator, we allow\u001b[39;00m\n\u001b[0;32m    214\u001b[0m     \u001b[38;5;66;03m# the function to delegate validation to the estimator, but we replace\u001b[39;00m\n\u001b[0;32m    215\u001b[0m     \u001b[38;5;66;03m# the name of the estimator by the name of the function in the error\u001b[39;00m\n\u001b[0;32m    216\u001b[0m     \u001b[38;5;66;03m# message to avoid confusion.\u001b[39;00m\n\u001b[0;32m    217\u001b[0m     msg \u001b[38;5;241m=\u001b[39m re\u001b[38;5;241m.\u001b[39msub(\n\u001b[0;32m    218\u001b[0m         \u001b[38;5;124mr\u001b[39m\u001b[38;5;124m\"\u001b[39m\u001b[38;5;124mparameter of \u001b[39m\u001b[38;5;124m\\\u001b[39m\u001b[38;5;124mw+ must be\u001b[39m\u001b[38;5;124m\"\u001b[39m,\n\u001b[0;32m    219\u001b[0m         \u001b[38;5;124mf\u001b[39m\u001b[38;5;124m\"\u001b[39m\u001b[38;5;124mparameter of \u001b[39m\u001b[38;5;132;01m{\u001b[39;00mfunc\u001b[38;5;241m.\u001b[39m\u001b[38;5;18m__qualname__\u001b[39m\u001b[38;5;132;01m}\u001b[39;00m\u001b[38;5;124m must be\u001b[39m\u001b[38;5;124m\"\u001b[39m,\n\u001b[0;32m    220\u001b[0m         \u001b[38;5;28mstr\u001b[39m(e),\n\u001b[0;32m    221\u001b[0m     )\n",
            "File \u001b[1;32m~\\anaconda3\\Lib\\site-packages\\sklearn\\metrics\\_classification.py:220\u001b[0m, in \u001b[0;36maccuracy_score\u001b[1;34m(y_true, y_pred, normalize, sample_weight)\u001b[0m\n\u001b[0;32m    154\u001b[0m \u001b[38;5;250m\u001b[39m\u001b[38;5;124;03m\"\"\"Accuracy classification score.\u001b[39;00m\n\u001b[0;32m    155\u001b[0m \n\u001b[0;32m    156\u001b[0m \u001b[38;5;124;03mIn multilabel classification, this function computes subset accuracy:\u001b[39;00m\n\u001b[1;32m   (...)\u001b[0m\n\u001b[0;32m    216\u001b[0m \u001b[38;5;124;03m0.5\u001b[39;00m\n\u001b[0;32m    217\u001b[0m \u001b[38;5;124;03m\"\"\"\u001b[39;00m\n\u001b[0;32m    219\u001b[0m \u001b[38;5;66;03m# Compute accuracy for each possible representation\u001b[39;00m\n\u001b[1;32m--> 220\u001b[0m y_type, y_true, y_pred \u001b[38;5;241m=\u001b[39m _check_targets(y_true, y_pred)\n\u001b[0;32m    221\u001b[0m check_consistent_length(y_true, y_pred, sample_weight)\n\u001b[0;32m    222\u001b[0m \u001b[38;5;28;01mif\u001b[39;00m y_type\u001b[38;5;241m.\u001b[39mstartswith(\u001b[38;5;124m\"\u001b[39m\u001b[38;5;124mmultilabel\u001b[39m\u001b[38;5;124m\"\u001b[39m):\n",
            "File \u001b[1;32m~\\anaconda3\\Lib\\site-packages\\sklearn\\metrics\\_classification.py:93\u001b[0m, in \u001b[0;36m_check_targets\u001b[1;34m(y_true, y_pred)\u001b[0m\n\u001b[0;32m     90\u001b[0m     y_type \u001b[38;5;241m=\u001b[39m {\u001b[38;5;124m\"\u001b[39m\u001b[38;5;124mmulticlass\u001b[39m\u001b[38;5;124m\"\u001b[39m}\n\u001b[0;32m     92\u001b[0m \u001b[38;5;28;01mif\u001b[39;00m \u001b[38;5;28mlen\u001b[39m(y_type) \u001b[38;5;241m>\u001b[39m \u001b[38;5;241m1\u001b[39m:\n\u001b[1;32m---> 93\u001b[0m     \u001b[38;5;28;01mraise\u001b[39;00m \u001b[38;5;167;01mValueError\u001b[39;00m(\n\u001b[0;32m     94\u001b[0m         \u001b[38;5;124m\"\u001b[39m\u001b[38;5;124mClassification metrics can\u001b[39m\u001b[38;5;124m'\u001b[39m\u001b[38;5;124mt handle a mix of \u001b[39m\u001b[38;5;132;01m{0}\u001b[39;00m\u001b[38;5;124m and \u001b[39m\u001b[38;5;132;01m{1}\u001b[39;00m\u001b[38;5;124m targets\u001b[39m\u001b[38;5;124m\"\u001b[39m\u001b[38;5;241m.\u001b[39mformat(\n\u001b[0;32m     95\u001b[0m             type_true, type_pred\n\u001b[0;32m     96\u001b[0m         )\n\u001b[0;32m     97\u001b[0m     )\n\u001b[0;32m     99\u001b[0m \u001b[38;5;66;03m# We can't have more than one value on y_type => The set is no more needed\u001b[39;00m\n\u001b[0;32m    100\u001b[0m y_type \u001b[38;5;241m=\u001b[39m y_type\u001b[38;5;241m.\u001b[39mpop()\n",
            "\u001b[1;31mValueError\u001b[0m: Classification metrics can't handle a mix of multiclass and continuous targets"
          ]
        }
      ],
      "source": [
        "acc = accuracy_score(y_true = y_test, y_pred = y_hat)\n",
        "rec = recall_score(y_true = y_test, y_pred = y_hat, average = None)\n",
        "f1 = f1_score(y_true=y_test, y_pred = y_hat, average = None)\n",
        "\n",
        "print(\"ACC: \", acc, \"Recall: \", rec, \" F1:\", f1)"
      ]
    },
    {
      "cell_type": "code",
      "execution_count": null,
      "id": "6a83b364",
      "metadata": {
        "id": "6a83b364",
        "outputId": "66be15a2-8bb9-44c4-d630-9f8f68bad850"
      },
      "outputs": [
        {
          "ename": "InvalidParameterError",
          "evalue": "The 'feature_names' parameter of plot_tree must be an instance of 'list' or None. Got Index(['Temperature (C)', 'Humidity', 'Wind Speed (km/h)',\n       'Wind Bearing (degrees)', 'Visibility (km)', 'Pressure (millibars)'],\n      dtype='object') instead.",
          "output_type": "error",
          "traceback": [
            "\u001b[1;31m---------------------------------------------------------------------------\u001b[0m",
            "\u001b[1;31mInvalidParameterError\u001b[0m                     Traceback (most recent call last)",
            "Cell \u001b[1;32mIn[51], line 3\u001b[0m\n\u001b[0;32m      1\u001b[0m plt\u001b[38;5;241m.\u001b[39mfigure(figsize \u001b[38;5;241m=\u001b[39m (\u001b[38;5;241m8\u001b[39m,\u001b[38;5;241m8\u001b[39m))\n\u001b[1;32m----> 3\u001b[0m plot_tree(tree_classifier,\n\u001b[0;32m      4\u001b[0m          class_names \u001b[38;5;241m=\u001b[39m class_names,\n\u001b[0;32m      5\u001b[0m          feature_names \u001b[38;5;241m=\u001b[39m X_test\u001b[38;5;241m.\u001b[39mkeys(),\n\u001b[0;32m      6\u001b[0m          filled \u001b[38;5;241m=\u001b[39m \u001b[38;5;28;01mTrue\u001b[39;00m,\n\u001b[0;32m      7\u001b[0m          proportion \u001b[38;5;241m=\u001b[39m \u001b[38;5;28;01mTrue\u001b[39;00m,\n\u001b[0;32m      8\u001b[0m          rounded \u001b[38;5;241m=\u001b[39m \u001b[38;5;28;01mTrue\u001b[39;00m\n\u001b[0;32m      9\u001b[0m          )\n\u001b[0;32m     10\u001b[0m plt\u001b[38;5;241m.\u001b[39mshow()\n",
            "File \u001b[1;32m~\\anaconda3\\Lib\\site-packages\\sklearn\\utils\\_param_validation.py:201\u001b[0m, in \u001b[0;36mvalidate_params.<locals>.decorator.<locals>.wrapper\u001b[1;34m(*args, **kwargs)\u001b[0m\n\u001b[0;32m    198\u001b[0m to_ignore \u001b[38;5;241m+\u001b[39m\u001b[38;5;241m=\u001b[39m [\u001b[38;5;124m\"\u001b[39m\u001b[38;5;124mself\u001b[39m\u001b[38;5;124m\"\u001b[39m, \u001b[38;5;124m\"\u001b[39m\u001b[38;5;124mcls\u001b[39m\u001b[38;5;124m\"\u001b[39m]\n\u001b[0;32m    199\u001b[0m params \u001b[38;5;241m=\u001b[39m {k: v \u001b[38;5;28;01mfor\u001b[39;00m k, v \u001b[38;5;129;01min\u001b[39;00m params\u001b[38;5;241m.\u001b[39marguments\u001b[38;5;241m.\u001b[39mitems() \u001b[38;5;28;01mif\u001b[39;00m k \u001b[38;5;129;01mnot\u001b[39;00m \u001b[38;5;129;01min\u001b[39;00m to_ignore}\n\u001b[1;32m--> 201\u001b[0m validate_parameter_constraints(\n\u001b[0;32m    202\u001b[0m     parameter_constraints, params, caller_name\u001b[38;5;241m=\u001b[39mfunc\u001b[38;5;241m.\u001b[39m\u001b[38;5;18m__qualname__\u001b[39m\n\u001b[0;32m    203\u001b[0m )\n\u001b[0;32m    205\u001b[0m \u001b[38;5;28;01mtry\u001b[39;00m:\n\u001b[0;32m    206\u001b[0m     \u001b[38;5;28;01mwith\u001b[39;00m config_context(\n\u001b[0;32m    207\u001b[0m         skip_parameter_validation\u001b[38;5;241m=\u001b[39m(\n\u001b[0;32m    208\u001b[0m             prefer_skip_nested_validation \u001b[38;5;129;01mor\u001b[39;00m global_skip_validation\n\u001b[0;32m    209\u001b[0m         )\n\u001b[0;32m    210\u001b[0m     ):\n",
            "File \u001b[1;32m~\\anaconda3\\Lib\\site-packages\\sklearn\\utils\\_param_validation.py:95\u001b[0m, in \u001b[0;36mvalidate_parameter_constraints\u001b[1;34m(parameter_constraints, params, caller_name)\u001b[0m\n\u001b[0;32m     89\u001b[0m \u001b[38;5;28;01melse\u001b[39;00m:\n\u001b[0;32m     90\u001b[0m     constraints_str \u001b[38;5;241m=\u001b[39m (\n\u001b[0;32m     91\u001b[0m         \u001b[38;5;124mf\u001b[39m\u001b[38;5;124m\"\u001b[39m\u001b[38;5;132;01m{\u001b[39;00m\u001b[38;5;124m'\u001b[39m\u001b[38;5;124m, \u001b[39m\u001b[38;5;124m'\u001b[39m\u001b[38;5;241m.\u001b[39mjoin([\u001b[38;5;28mstr\u001b[39m(c)\u001b[38;5;250m \u001b[39m\u001b[38;5;28;01mfor\u001b[39;00m\u001b[38;5;250m \u001b[39mc\u001b[38;5;250m \u001b[39m\u001b[38;5;129;01min\u001b[39;00m\u001b[38;5;250m \u001b[39mconstraints[:\u001b[38;5;241m-\u001b[39m\u001b[38;5;241m1\u001b[39m]])\u001b[38;5;132;01m}\u001b[39;00m\u001b[38;5;124m or\u001b[39m\u001b[38;5;124m\"\u001b[39m\n\u001b[0;32m     92\u001b[0m         \u001b[38;5;124mf\u001b[39m\u001b[38;5;124m\"\u001b[39m\u001b[38;5;124m \u001b[39m\u001b[38;5;132;01m{\u001b[39;00mconstraints[\u001b[38;5;241m-\u001b[39m\u001b[38;5;241m1\u001b[39m]\u001b[38;5;132;01m}\u001b[39;00m\u001b[38;5;124m\"\u001b[39m\n\u001b[0;32m     93\u001b[0m     )\n\u001b[1;32m---> 95\u001b[0m \u001b[38;5;28;01mraise\u001b[39;00m InvalidParameterError(\n\u001b[0;32m     96\u001b[0m     \u001b[38;5;124mf\u001b[39m\u001b[38;5;124m\"\u001b[39m\u001b[38;5;124mThe \u001b[39m\u001b[38;5;132;01m{\u001b[39;00mparam_name\u001b[38;5;132;01m!r}\u001b[39;00m\u001b[38;5;124m parameter of \u001b[39m\u001b[38;5;132;01m{\u001b[39;00mcaller_name\u001b[38;5;132;01m}\u001b[39;00m\u001b[38;5;124m must be\u001b[39m\u001b[38;5;124m\"\u001b[39m\n\u001b[0;32m     97\u001b[0m     \u001b[38;5;124mf\u001b[39m\u001b[38;5;124m\"\u001b[39m\u001b[38;5;124m \u001b[39m\u001b[38;5;132;01m{\u001b[39;00mconstraints_str\u001b[38;5;132;01m}\u001b[39;00m\u001b[38;5;124m. Got \u001b[39m\u001b[38;5;132;01m{\u001b[39;00mparam_val\u001b[38;5;132;01m!r}\u001b[39;00m\u001b[38;5;124m instead.\u001b[39m\u001b[38;5;124m\"\u001b[39m\n\u001b[0;32m     98\u001b[0m )\n",
            "\u001b[1;31mInvalidParameterError\u001b[0m: The 'feature_names' parameter of plot_tree must be an instance of 'list' or None. Got Index(['Temperature (C)', 'Humidity', 'Wind Speed (km/h)',\n       'Wind Bearing (degrees)', 'Visibility (km)', 'Pressure (millibars)'],\n      dtype='object') instead."
          ]
        },
        {
          "data": {
            "text/plain": [
              "<Figure size 800x800 with 0 Axes>"
            ]
          },
          "metadata": {},
          "output_type": "display_data"
        }
      ],
      "source": [
        "plt.figure(figsize = (8,8))\n",
        "\n",
        "plot_tree(tree_classifier,\n",
        "         class_names = class_names,\n",
        "         feature_names = X_test.keys(),\n",
        "         filled = True,\n",
        "         proportion = True,\n",
        "         rounded = True\n",
        "         )\n",
        "plt.show()\n",
        "\n",
        "\n",
        "# this tree is assymetrical compared to the LinReg tree"
      ]
    },
    {
      "cell_type": "code",
      "execution_count": null,
      "id": "902710bf",
      "metadata": {
        "id": "902710bf"
      },
      "outputs": [],
      "source": []
    }
  ],
  "metadata": {
    "kernelspec": {
      "display_name": "Python 3 (ipykernel)",
      "language": "python",
      "name": "python3"
    },
    "language_info": {
      "codemirror_mode": {
        "name": "ipython",
        "version": 3
      },
      "file_extension": ".py",
      "mimetype": "text/x-python",
      "name": "python",
      "nbconvert_exporter": "python",
      "pygments_lexer": "ipython3",
      "version": "3.11.7"
    },
    "colab": {
      "provenance": [],
      "include_colab_link": true
    }
  },
  "nbformat": 4,
  "nbformat_minor": 5
}
